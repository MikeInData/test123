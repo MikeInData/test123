{
 "cells": [
  {
   "cell_type": "code",
   "execution_count": 1,
   "id": "19fde2d7",
   "metadata": {},
   "outputs": [
    {
     "name": "stdout",
     "output_type": "stream",
     "text": [
      "Device Name: Smartphone\n",
      "Manufacturer: Apple\n",
      "Price: 999.99\n"
     ]
    }
   ],
   "source": [
    "class Device:\n",
    "    def __init__(self, name, manufacturer, price):\n",
    "        self.name = name\n",
    "        self.manufacturer = manufacturer\n",
    "        self.price = price\n",
    "\n",
    "    def device_details(self):\n",
    "        print(f\"Device Name: {self.name}\")\n",
    "        print(f\"Manufacturer: {self.manufacturer}\")\n",
    "        print(f\"Price: {self.price}\")\n",
    "# Creating an instance of Device\n",
    "device1 = Device(\"Smartphone\", \"Apple\", 999.99)\n",
    "\n",
    "# Displaying device details\n",
    "device1.device_details()"
   ]
  },
  {
   "cell_type": "code",
   "execution_count": 2,
   "id": "64002243",
   "metadata": {},
   "outputs": [
    {
     "name": "stdout",
     "output_type": "stream",
     "text": [
      "Device Name: Smartphone\n",
      "Manufacturer: Samsung\n",
      "Price: 799.99\n",
      "Storage: 128 GB\n",
      "RAM: 6 GB\n"
     ]
    }
   ],
   "source": [
    "class Mobile(Device):\n",
    "    def __init__(self, name, manufacturer, price, storage, ram):\n",
    "        super().__init__(name, manufacturer, price)\n",
    "        self.storage = storage\n",
    "        self.ram = ram\n",
    "\n",
    "    def mobile_details(self):\n",
    "        self.device_details()  # Reuse the base class method to display common details\n",
    "        print(f\"Storage: {self.storage} GB\")\n",
    "        print(f\"RAM: {self.ram} GB\")\n",
    "# Creating an instance of Mobile\n",
    "mobile1 = Mobile(\"Smartphone\", \"Samsung\", 799.99, 128, 6)\n",
    "\n",
    "# Displaying mobile details\n",
    "mobile1.mobile_details()\n"
   ]
  },
  {
   "cell_type": "code",
   "execution_count": 3,
   "id": "bcff7776",
   "metadata": {},
   "outputs": [
    {
     "name": "stdout",
     "output_type": "stream",
     "text": [
      "Device Name: Smartphone\n",
      "Manufacturer: Samsung\n",
      "Price: 799.99\n",
      "Storage: 128 GB\n",
      "RAM: 6 GB\n"
     ]
    }
   ],
   "source": [
    "# Creating an instance of Mobile\n",
    "mobile1 = Mobile(\"Smartphone\", \"Samsung\", 799.99, 128, 6)\n",
    "\n",
    "# Displaying mobile details using the mobile_details method\n",
    "mobile1.mobile_details()\n"
   ]
  }
 ],
 "metadata": {
  "kernelspec": {
   "display_name": "Python 3 (ipykernel)",
   "language": "python",
   "name": "python3"
  },
  "language_info": {
   "codemirror_mode": {
    "name": "ipython",
    "version": 3
   },
   "file_extension": ".py",
   "mimetype": "text/x-python",
   "name": "python",
   "nbconvert_exporter": "python",
   "pygments_lexer": "ipython3",
   "version": "3.9.12"
  }
 },
 "nbformat": 4,
 "nbformat_minor": 5
}
