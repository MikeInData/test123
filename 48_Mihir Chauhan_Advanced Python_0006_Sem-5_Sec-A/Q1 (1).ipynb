{
 "cells": [
  {
   "cell_type": "code",
   "execution_count": 3,
   "id": "046039aa",
   "metadata": {},
   "outputs": [
    {
     "name": "stdout",
     "output_type": "stream",
     "text": [
      "Product 1 Information:\n",
      "Product Name: Paneer\n",
      "Price: 2.7 EUR\n",
      "Quantity: 3 units\n",
      "\n",
      "Product 2 Information:\n",
      "Product Name: Cheese\n",
      "Price: 5.8 EUR\n",
      "Quantity: 2 units\n"
     ]
    }
   ],
   "source": [
    "class Dairy_Product:\n",
    "    def __init__(self, p_name, p_price, p_quantity):\n",
    "        self.name = p_name\n",
    "        self.price = p_price\n",
    "        self.quantity = p_quantity\n",
    "\n",
    "    def display_info(self):\n",
    "        print(f\"Product Name: {self.name}\")\n",
    "        print(f\"Price: {self.price} EUR\")\n",
    "        print(f\"Quantity: {self.quantity} units\")\n",
    "\n",
    "# Example usage:\n",
    "if __name__ == \"__main__\":\n",
    "    product1 = Dairy_Product(\"Paneer\", 2.7, 3)\n",
    "    product2 = Dairy_Product(\"Cheese\", 5.8, 2)\n",
    "\n",
    "    print(\"Product 1 Information:\")\n",
    "    product1.display_info()\n",
    "\n",
    "    print(\"\\nProduct 2 Information:\")\n",
    "    product2.display_info()"
   ]
  }
 ],
 "metadata": {
  "kernelspec": {
   "display_name": "Python 3 (ipykernel)",
   "language": "python",
   "name": "python3"
  },
  "language_info": {
   "codemirror_mode": {
    "name": "ipython",
    "version": 3
   },
   "file_extension": ".py",
   "mimetype": "text/x-python",
   "name": "python",
   "nbconvert_exporter": "python",
   "pygments_lexer": "ipython3",
   "version": "3.9.12"
  }
 },
 "nbformat": 4,
 "nbformat_minor": 5
}
